{
 "cells": [
  {
   "cell_type": "code",
   "execution_count": null,
   "metadata": {},
   "outputs": [],
   "source": [
    "num1 = input(\"Enter positive number: \").strip()\n",
    "dot = \".\"\n",
    "minus = \"-\"\n",
    "comma = \",\"\n",
    "int1 = 0\n",
    "\n",
    "for i in num1: \n",
    "    # if string has letter\n",
    "    if i.isalpha():\n",
    "        print (\"It is an invalid entry. Don't use non-numeric, float, or negative values!\")\n",
    "        break\n",
    "    elif dot in num1:\n",
    "        print(\"Float is an invalid entry. Don't use non-numeric, float, or negative values!\")\n",
    "        break\n",
    "    elif comma in num1:\n",
    "        print(\"Float is an invalid entry. Don't use non-numeric, float, or negative values!\")\n",
    "        break\n",
    "    elif minus in num1:\n",
    "        print(\"Float is an invalid entry. Don't use non-numeric, float, or negative values!\")\n",
    "        break\n",
    "    else:\n",
    "        int1 = int(num1)\n",
    "# print (int1)\n",
    "\n",
    "armstrong_check = 0\n",
    "        \n",
    "while int1:\n",
    "    if int1 > 0:\n",
    "        list1 = list(str(int1))\n",
    "        str_len = int(len(list1))\n",
    "        for i in range(len(list1)):\n",
    "            armstrong_check = armstrong_check + (int(list1[i])**str_len)\n",
    "        if int1==armstrong_check:\n",
    "            print (\"The number\", int1, \"is an Armstrong number\")\n",
    "            break\n",
    "        elif num1 != armstrong_check: \n",
    "            print (\"This is not an Armstrong number\")\n",
    "            break"
   ]
  },
  {
   "cell_type": "code",
   "execution_count": null,
   "metadata": {},
   "outputs": [],
   "source": []
  }
 ],
 "metadata": {
  "kernelspec": {
   "display_name": "Python 3",
   "language": "python",
   "name": "python3"
  },
  "language_info": {
   "codemirror_mode": {
    "name": "ipython",
    "version": 3
   },
   "file_extension": ".py",
   "mimetype": "text/x-python",
   "name": "python",
   "nbconvert_exporter": "python",
   "pygments_lexer": "ipython3",
   "version": "3.8.5"
  }
 },
 "nbformat": 4,
 "nbformat_minor": 4
}
