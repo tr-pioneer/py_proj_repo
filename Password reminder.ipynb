{
 "cells": [
  {
   "cell_type": "code",
   "execution_count": 5,
   "metadata": {},
   "outputs": [
    {
     "name": "stdin",
     "output_type": "stream",
     "text": [
      "Enter your name please:  John\n"
     ]
    },
    {
     "name": "stdout",
     "output_type": "stream",
     "text": [
      "Hello John, your password is  J%_8*\n"
     ]
    }
   ],
   "source": [
    "name = \"John\"\n",
    "password = \"J%_8*\"\n",
    "\n",
    "Inpt = str(input(\"Enter your name please: \"))\n",
    "\n",
    "if Inpt == name:\n",
    "    print (\"Hello John, your password is: \", password)\n",
    "else:\n",
    "    print (\"Sorry, the name is undefined\")"
   ]
  },
  {
   "cell_type": "code",
   "execution_count": null,
   "metadata": {},
   "outputs": [],
   "source": []
  }
 ],
 "metadata": {
  "kernelspec": {
   "display_name": "Python 3",
   "language": "python",
   "name": "python3"
  },
  "language_info": {
   "codemirror_mode": {
    "name": "ipython",
    "version": 3
   },
   "file_extension": ".py",
   "mimetype": "text/x-python",
   "name": "python",
   "nbconvert_exporter": "python",
   "pygments_lexer": "ipython3",
   "version": "3.8.5"
  }
 },
 "nbformat": 4,
 "nbformat_minor": 4
}
